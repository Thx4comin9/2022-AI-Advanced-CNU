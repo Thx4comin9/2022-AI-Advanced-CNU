{
 "cells": [
  {
   "cell_type": "code",
   "execution_count": 6,
   "id": "f62bc02f",
   "metadata": {},
   "outputs": [],
   "source": [
    "import pandas as pd\n",
    "import tensorflow as tf"
   ]
  },
  {
   "cell_type": "code",
   "execution_count": 13,
   "id": "9e65058d",
   "metadata": {},
   "outputs": [],
   "source": [
    "# MNIST 데이터셋을 로드하여 준비. 샘플 값을 정수에서 부동소수로 변환.\n",
    "# why? = 시그모이드를 적용시키기 위해서 0~1사이 값으로 정규화해주는 것"
   ]
  },
  {
   "cell_type": "code",
   "execution_count": 8,
   "id": "27cd7be5",
   "metadata": {},
   "outputs": [],
   "source": [
    "mnist = tf.keras.datasets.mnist\n",
    "\n",
    "(x_train, y_train), (x_test, y_test) = mnist.load_data()\n",
    "x_train, x_test = x_train / 255.0, x_test / 255.0"
   ]
  },
  {
   "cell_type": "code",
   "execution_count": 14,
   "id": "e3c2563e",
   "metadata": {},
   "outputs": [],
   "source": [
    "model = tf.keras.models.Sequential([\n",
    "  tf.keras.layers.Flatten(input_shape=(28, 28)), # 이미지가 2차원 행렬을 1차원 행렬로 바꾸는 것(781,1)로 바꾸기\n",
    "  tf.keras.layers.Dense(128, activation='relu'),\n",
    "  tf.keras.layers.Dropout(0.2),\n",
    "  tf.keras.layers.Dense(10, activation='softmax') # 분류 : 소프트맥스\n",
    "])\n",
    "\n",
    "model.compile(optimizer='adam', # lr이 없으면 기본값? == 기본값은 0.001\n",
    "              loss='sparse_categorical_crossentropy',\n",
    "              metrics=['accuracy'])"
   ]
  },
  {
   "cell_type": "code",
   "execution_count": 18,
   "id": "e7a61e9d",
   "metadata": {},
   "outputs": [
    {
     "name": "stdout",
     "output_type": "stream",
     "text": [
      "Train on 60000 samples\n",
      "Epoch 1/5\n",
      "60000/60000 [==============================] - 5s 91us/sample - loss: 0.0661 - accuracy: 0.9786\n",
      "Epoch 2/5\n",
      "60000/60000 [==============================] - 4s 73us/sample - loss: 0.0606 - accuracy: 0.9803\n",
      "Epoch 3/5\n",
      "60000/60000 [==============================] - 5s 81us/sample - loss: 0.0532 - accuracy: 0.9821\n",
      "Epoch 4/5\n",
      "60000/60000 [==============================] - 4s 71us/sample - loss: 0.0500 - accuracy: 0.9833\n",
      "Epoch 5/5\n",
      "60000/60000 [==============================] - 4s 67us/sample - loss: 0.0425 - accuracy: 0.9857\n"
     ]
    },
    {
     "data": {
      "text/plain": [
       "<tensorflow.python.keras.callbacks.History at 0x7fe015083790>"
      ]
     },
     "execution_count": 18,
     "metadata": {},
     "output_type": "execute_result"
    }
   ],
   "source": [
    "model.fit(x_train, y_train, epochs=5) \n",
    "#만약에 처음 학습 이후 똑같이 에포크 5를 돌리면 총 10번의 에포킅로 치는것"
   ]
  },
  {
   "cell_type": "code",
   "execution_count": 19,
   "id": "35365e00",
   "metadata": {
    "scrolled": true
   },
   "outputs": [
    {
     "name": "stdout",
     "output_type": "stream",
     "text": [
      "10000/10000 - 1s - loss: 0.0726 - accuracy: 0.9790\n"
     ]
    },
    {
     "data": {
      "text/plain": [
       "[0.07256008693504264, 0.979]"
      ]
     },
     "execution_count": 19,
     "metadata": {},
     "output_type": "execute_result"
    }
   ],
   "source": [
    "model.evaluate(x_test,  y_test, verbose=2) #로그를 얼마나 화면에 디테일하게 보여줄까?"
   ]
  },
  {
   "cell_type": "markdown",
   "id": "660b19b3",
   "metadata": {},
   "source": [
    "## 훈련데이터와 평가데이터에 차이가 난다면 뭘 바꿔서 최적의 값을 찾을 수 있을까?= 하이퍼파라메타 튜닝!!"
   ]
  },
  {
   "cell_type": "code",
   "execution_count": null,
   "id": "cd4965f8",
   "metadata": {},
   "outputs": [],
   "source": [
    "model = tf.keras.models.Sequential([\n",
    "  tf.keras.layers.Flatten(input_shape=(28, 28)),\n",
    "  tf.keras.layers.Dense(256, activation='relu'), # 레이어당 노드 수 바꾸기 64개? 128개? 256개? 512개?\n",
    "  tf.keras.layers.Dropout(0.3),\n",
    "  tf.keras.layers.Dense(256, activation='relu'), #히든레이어 층 추가\n",
    "  tf.keras.layers.Dropout(0.3), # 드랍아웃 여부 + 비율 올리기\n",
    "  tf.keras.layers.Dense(10, activation='softmax')\\\n",
    "])\n",
    "\n",
    "model.compile(optimizer='SGD',# 옵티마이저 바꾸기\n",
    "              loss='sparse_categorical_crossentropy', # 손실함수 바꾸기\n",
    "              metrics=['accuracy'])"
   ]
  },
  {
   "cell_type": "code",
   "execution_count": 20,
   "id": "c196a06c",
   "metadata": {},
   "outputs": [
    {
     "name": "stdout",
     "output_type": "stream",
     "text": [
      "Train on 60000 samples\n",
      "Epoch 1/5\n",
      "60000/60000 [==============================] - 5s 84us/sample - loss: 0.0409 - accuracy: 0.9859\n",
      "Epoch 2/5\n",
      "60000/60000 [==============================] - 4s 66us/sample - loss: 0.0397 - accuracy: 0.9864\n",
      "Epoch 3/5\n",
      "60000/60000 [==============================] - 4s 60us/sample - loss: 0.0341 - accuracy: 0.9886\n",
      "Epoch 4/5\n",
      "60000/60000 [==============================] - 4s 63us/sample - loss: 0.0337 - accuracy: 0.9880\n",
      "Epoch 5/5\n",
      "60000/60000 [==============================] - 4s 69us/sample - loss: 0.0307 - accuracy: 0.9895\n"
     ]
    },
    {
     "data": {
      "text/plain": [
       "<tensorflow.python.keras.callbacks.History at 0x7fe01507d150>"
      ]
     },
     "execution_count": 20,
     "metadata": {},
     "output_type": "execute_result"
    }
   ],
   "source": [
    "model.fit(x_train, y_train, epochs=5)  # 에포크 바꾸기"
   ]
  },
  {
   "cell_type": "code",
   "execution_count": 21,
   "id": "5eb5cccd",
   "metadata": {},
   "outputs": [
    {
     "name": "stdout",
     "output_type": "stream",
     "text": [
      "10000/10000 - 0s - loss: 0.0775 - accuracy: 0.9803\n"
     ]
    },
    {
     "data": {
      "text/plain": [
       "[0.07750640617025346, 0.9803]"
      ]
     },
     "execution_count": 21,
     "metadata": {},
     "output_type": "execute_result"
    }
   ],
   "source": [
    "model.evaluate(x_test,  y_test, verbose=2)"
   ]
  },
  {
   "cell_type": "code",
   "execution_count": null,
   "id": "bd7d2da3",
   "metadata": {},
   "outputs": [],
   "source": []
  }
 ],
 "metadata": {
  "kernelspec": {
   "display_name": "ML",
   "language": "python",
   "name": "pytorch"
  },
  "language_info": {
   "codemirror_mode": {
    "name": "ipython",
    "version": 3
   },
   "file_extension": ".py",
   "mimetype": "text/x-python",
   "name": "python",
   "nbconvert_exporter": "python",
   "pygments_lexer": "ipython3",
   "version": "3.7.13"
  }
 },
 "nbformat": 4,
 "nbformat_minor": 5
}

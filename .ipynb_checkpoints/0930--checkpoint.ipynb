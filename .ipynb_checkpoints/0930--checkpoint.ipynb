{
 "cells": [
  {
   "cell_type": "code",
   "execution_count": 1,
   "id": "1dda7d83",
   "metadata": {},
   "outputs": [],
   "source": [
    "import torch\n",
    "import torch.nn as nn\n",
    "import torch.nn.functional as F"
   ]
  },
  {
   "cell_type": "code",
   "execution_count": 2,
   "id": "009f4614",
   "metadata": {},
   "outputs": [],
   "source": [
    "from torch.utils.data import TensorDataset # 텐서데이터셋\n",
    "from torch.utils.data import DataLoader # 데이터로더"
   ]
  },
  {
   "cell_type": "code",
   "execution_count": 3,
   "id": "ecaba1de",
   "metadata": {},
   "outputs": [],
   "source": [
    "x_train  =  torch.FloatTensor([[73,  80,  75], \n",
    "                               [93,  88,  93], \n",
    "                               [89,  91,  90], \n",
    "                               [96,  98,  100],   \n",
    "                               [73,  66,  70]])  \n",
    "y_train  =  torch.FloatTensor([[152],  [185],  [180],  [196],  [142]])"
   ]
  },
  {
   "cell_type": "code",
   "execution_count": 4,
   "id": "b1e1dab5",
   "metadata": {},
   "outputs": [],
   "source": [
    "dataset = TensorDataset(x_train, y_train)\n"
   ]
  },
  {
   "cell_type": "code",
   "execution_count": 5,
   "id": "501b617c",
   "metadata": {},
   "outputs": [],
   "source": [
    "dataloader = DataLoader(dataset, batch_size=2, shuffle=True)\n"
   ]
  },
  {
   "cell_type": "code",
   "execution_count": 6,
   "id": "dabab863",
   "metadata": {},
   "outputs": [],
   "source": [
    "model = nn.Linear(3,1)\n",
    "optimizer = torch.optim.SGD(model.parameters(), lr=1e-5) "
   ]
  },
  {
   "cell_type": "code",
   "execution_count": 7,
   "id": "f070e308",
   "metadata": {},
   "outputs": [
    {
     "name": "stdout",
     "output_type": "stream",
     "text": [
      "Epoch    0/20 Batch 1/3 Cost: 22643.722656\n",
      "Epoch    0/20 Batch 2/3 Cost: 17890.394531\n",
      "Epoch    0/20 Batch 3/3 Cost: 3137.934082\n",
      "Epoch    1/20 Batch 1/3 Cost: 839.295166\n",
      "Epoch    1/20 Batch 2/3 Cost: 319.196198\n",
      "Epoch    1/20 Batch 3/3 Cost: 59.244843\n",
      "Epoch    2/20 Batch 1/3 Cost: 44.502544\n",
      "Epoch    2/20 Batch 2/3 Cost: 26.651531\n",
      "Epoch    2/20 Batch 3/3 Cost: 0.002098\n",
      "Epoch    3/20 Batch 1/3 Cost: 0.039662\n",
      "Epoch    3/20 Batch 2/3 Cost: 16.423491\n",
      "Epoch    3/20 Batch 3/3 Cost: 28.001467\n",
      "Epoch    4/20 Batch 1/3 Cost: 15.897078\n",
      "Epoch    4/20 Batch 2/3 Cost: 13.763489\n",
      "Epoch    4/20 Batch 3/3 Cost: 11.986434\n",
      "Epoch    5/20 Batch 1/3 Cost: 6.823727\n",
      "Epoch    5/20 Batch 2/3 Cost: 21.691320\n",
      "Epoch    5/20 Batch 3/3 Cost: 17.950743\n",
      "Epoch    6/20 Batch 1/3 Cost: 15.510722\n",
      "Epoch    6/20 Batch 2/3 Cost: 13.664158\n",
      "Epoch    6/20 Batch 3/3 Cost: 3.461930\n",
      "Epoch    7/20 Batch 1/3 Cost: 5.190113\n",
      "Epoch    7/20 Batch 2/3 Cost: 17.579035\n",
      "Epoch    7/20 Batch 3/3 Cost: 16.981276\n",
      "Epoch    8/20 Batch 1/3 Cost: 7.246908\n",
      "Epoch    8/20 Batch 2/3 Cost: 18.534967\n",
      "Epoch    8/20 Batch 3/3 Cost: 6.902727\n",
      "Epoch    9/20 Batch 1/3 Cost: 18.363276\n",
      "Epoch    9/20 Batch 2/3 Cost: 8.239085\n",
      "Epoch    9/20 Batch 3/3 Cost: 3.914645\n",
      "Epoch   10/20 Batch 1/3 Cost: 5.554210\n",
      "Epoch   10/20 Batch 2/3 Cost: 13.286371\n",
      "Epoch   10/20 Batch 3/3 Cost: 24.196323\n",
      "Epoch   11/20 Batch 1/3 Cost: 8.122705\n",
      "Epoch   11/20 Batch 2/3 Cost: 19.784557\n",
      "Epoch   11/20 Batch 3/3 Cost: 17.138332\n",
      "Epoch   12/20 Batch 1/3 Cost: 3.667816\n",
      "Epoch   12/20 Batch 2/3 Cost: 33.683647\n",
      "Epoch   12/20 Batch 3/3 Cost: 5.539898\n",
      "Epoch   13/20 Batch 1/3 Cost: 21.199350\n",
      "Epoch   13/20 Batch 2/3 Cost: 9.934437\n",
      "Epoch   13/20 Batch 3/3 Cost: 13.263596\n",
      "Epoch   14/20 Batch 1/3 Cost: 2.855239\n",
      "Epoch   14/20 Batch 2/3 Cost: 16.156216\n",
      "Epoch   14/20 Batch 3/3 Cost: 26.124428\n",
      "Epoch   15/20 Batch 1/3 Cost: 11.226322\n",
      "Epoch   15/20 Batch 2/3 Cost: 6.913062\n",
      "Epoch   15/20 Batch 3/3 Cost: 21.662621\n",
      "Epoch   16/20 Batch 1/3 Cost: 14.477571\n",
      "Epoch   16/20 Batch 2/3 Cost: 13.448800\n",
      "Epoch   16/20 Batch 3/3 Cost: 2.654628\n",
      "Epoch   17/20 Batch 1/3 Cost: 14.071206\n",
      "Epoch   17/20 Batch 2/3 Cost: 7.795984\n",
      "Epoch   17/20 Batch 3/3 Cost: 17.219410\n",
      "Epoch   18/20 Batch 1/3 Cost: 11.701101\n",
      "Epoch   18/20 Batch 2/3 Cost: 17.896135\n",
      "Epoch   18/20 Batch 3/3 Cost: 2.375623\n",
      "Epoch   19/20 Batch 1/3 Cost: 5.056480\n",
      "Epoch   19/20 Batch 2/3 Cost: 17.617388\n",
      "Epoch   19/20 Batch 3/3 Cost: 16.367195\n",
      "Epoch   20/20 Batch 1/3 Cost: 17.827515\n",
      "Epoch   20/20 Batch 2/3 Cost: 8.197201\n",
      "Epoch   20/20 Batch 3/3 Cost: 19.190725\n"
     ]
    }
   ],
   "source": [
    "nb_epochs = 20\n",
    "for epoch in range(nb_epochs + 1):\n",
    "  for batch_idx, samples in enumerate(dataloader):\n",
    "    # print(batch_idx)\n",
    "    # print(samples)\n",
    "    x_train, y_train = samples\n",
    "    # H(x) 계산\n",
    "    prediction = model(x_train)\n",
    "\n",
    "    # cost 계산\n",
    "    cost = F.mse_loss(prediction, y_train)\n",
    "\n",
    "    # cost로 H(x) 계산\n",
    "    optimizer.zero_grad()\n",
    "    cost.backward()\n",
    "    optimizer.step()\n",
    "\n",
    "    print('Epoch {:4d}/{} Batch {}/{} Cost: {:.6f}'.format(\n",
    "        epoch, nb_epochs, batch_idx+1, len(dataloader),\n",
    "        cost.item()\n",
    "        ))\n"
   ]
  },
  {
   "cell_type": "code",
   "execution_count": 8,
   "id": "31542428",
   "metadata": {},
   "outputs": [
    {
     "name": "stdout",
     "output_type": "stream",
     "text": [
      "훈련 후 입력이 73, 80, 75일 때의 예측값 : tensor([[157.4077]], grad_fn=<AddmmBackward0>)\n"
     ]
    }
   ],
   "source": [
    "# 임의의 입력 [73, 80, 75]를 선언\n",
    "new_var =  torch.FloatTensor([[73, 80, 75]]) \n",
    "# 입력한 값 [73, 80, 75]에 대해서 예측값 y를 리턴받아서 pred_y에 저장\n",
    "pred_y = model(new_var) \n",
    "print(\"훈련 후 입력이 73, 80, 75일 때의 예측값 :\", pred_y) "
   ]
  },
  {
   "cell_type": "code",
   "execution_count": null,
   "id": "cf351f12",
   "metadata": {},
   "outputs": [],
   "source": []
  }
 ],
 "metadata": {
  "kernelspec": {
   "display_name": "ML",
   "language": "python",
   "name": "pytorch"
  },
  "language_info": {
   "codemirror_mode": {
    "name": "ipython",
    "version": 3
   },
   "file_extension": ".py",
   "mimetype": "text/x-python",
   "name": "python",
   "nbconvert_exporter": "python",
   "pygments_lexer": "ipython3",
   "version": "3.7.13"
  }
 },
 "nbformat": 4,
 "nbformat_minor": 5
}

{
 "cells": [
  {
   "cell_type": "code",
   "execution_count": 3,
   "id": "e6a949b5",
   "metadata": {},
   "outputs": [],
   "source": [
    "import tensorflow as tf"
   ]
  },
  {
   "cell_type": "code",
   "execution_count": 4,
   "id": "454e5709",
   "metadata": {},
   "outputs": [
    {
     "name": "stdout",
     "output_type": "stream",
     "text": [
      "2.8.0\n"
     ]
    }
   ],
   "source": [
    "print(tf.__version__)"
   ]
  },
  {
   "cell_type": "code",
   "execution_count": null,
   "id": "ac402c8a",
   "metadata": {},
   "outputs": [],
   "source": [
    "model = tf.keras.Sequential() # 시퀀셜이 모델을 굉장히 직관적으로 표현함\n",
    "model.add(tf.keras.layers.Dense(64, activation='relu')) # Dense(fully connected node)\n",
    "model.add(tf.keras.layers.Dense(64, activation='relu'))\n",
    "model.add(tf.keras.layers.Dense(10, activation='softmax')) # softmax = 분류용 활성화함수\n",
    "\n",
    "# 컴파일\n",
    "model.compile(optimizer=tf.keras.optimizers.Adam(0.001), # 학습률 0.0001\n",
    "              loss='categorical_crossentropy',\n",
    "              metrics=['accuracy'])\n",
    "\n",
    "# 모델 훈련(학습)\n",
    "model.fit(train_data, labels, epochs=10, batch_size=32) # 90%\n",
    "# 모델 평가\n",
    "model.evaluate(test_data, labels) # 92%, 90%, 80% -> 과적합(Overfitting)\n",
    "# 샘플 예측\n",
    "model.predict(new_sample)"
   ]
  }
 ],
 "metadata": {
  "kernelspec": {
   "display_name": "ML",
   "language": "python",
   "name": "pytorch"
  },
  "language_info": {
   "codemirror_mode": {
    "name": "ipython",
    "version": 3
   },
   "file_extension": ".py",
   "mimetype": "text/x-python",
   "name": "python",
   "nbconvert_exporter": "python",
   "pygments_lexer": "ipython3",
   "version": "3.7.13"
  }
 },
 "nbformat": 4,
 "nbformat_minor": 5
}

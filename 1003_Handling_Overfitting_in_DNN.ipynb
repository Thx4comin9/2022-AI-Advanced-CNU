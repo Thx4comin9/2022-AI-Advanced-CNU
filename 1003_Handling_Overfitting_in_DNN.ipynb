{
 "cells": [
  {
   "cell_type": "markdown",
   "id": "58ef131a",
   "metadata": {
    "id": "58ef131a"
   },
   "source": [
    "# DropOut\n",
    "\n",
    "-참고블그 : https://wegonnamakeit.tistory.com/46\n"
   ]
  },
  {
   "cell_type": "code",
   "execution_count": null,
   "id": "4b155287",
   "metadata": {
    "id": "4b155287",
    "outputId": "bf5d3661-1051-4be4-c131-25d2924d707d"
   },
   "outputs": [
    {
     "ename": "IndentationError",
     "evalue": "unexpected indent (1605667283.py, line 2)",
     "output_type": "error",
     "traceback": [
      "\u001b[1;36m  Input \u001b[1;32mIn [1]\u001b[1;36m\u001b[0m\n\u001b[1;33m    model = torch.nn.Sequential(linear1, relu, dropout, linear2, relu, dropout, linear3, relu, dropout).to(device)\u001b[0m\n\u001b[1;37m    ^\u001b[0m\n\u001b[1;31mIndentationError\u001b[0m\u001b[1;31m:\u001b[0m unexpected indent\n"
     ]
    }
   ],
   "source": [
    "dropout = torch.nn.Dropout(p=drop_prob)\n",
    "model = torch.nn.Sequential(linear1, relu, dropout, linear2, relu, dropout, linear3, relu, dropout).to(device)"
   ]
  },
  {
   "cell_type": "markdown",
   "id": "a2fd301d",
   "metadata": {
    "id": "a2fd301d"
   },
   "source": [
    "# L1/L2 정규화\n"
   ]
  },
  {
   "cell_type": "code",
   "execution_count": null,
   "id": "e22b114d",
   "metadata": {
    "id": "e22b114d",
    "outputId": "49ae02a0-436b-462d-ee5d-aa0505a796e5"
   },
   "outputs": [
    {
     "ename": "IndentationError",
     "evalue": "unexpected indent (2364715525.py, line 2)",
     "output_type": "error",
     "traceback": [
      "\u001b[1;36m  Input \u001b[1;32mIn [3]\u001b[1;36m\u001b[0m\n\u001b[1;33m    all_linear2_params = torch.cat([x.view(-1) for x in model.linear2.parameters()])\u001b[0m\n\u001b[1;37m    ^\u001b[0m\n\u001b[1;31mIndentationError\u001b[0m\u001b[1;31m:\u001b[0m unexpected indent\n"
     ]
    }
   ],
   "source": [
    " all_linear1_params = torch.cat([x.view(-1) for x in model.linear1.parameters()])\n",
    "    all_linear2_params = torch.cat([x.view(-1) for x in model.linear2.parameters()])\n",
    "    l1_regularization = lambda1 * torch.norm(all_linear1_params, 1)\n",
    "    l2_regularization = lambda2 * torch.norm(all_linear2_params, 2)\n",
    "    loss = cross_entropy_loss + l1_regularization + l2_regularization"
   ]
  },
  {
   "cell_type": "markdown",
   "id": "147e0ca7",
   "metadata": {
    "id": "147e0ca7"
   },
   "source": [
    "# L2 정규화\n"
   ]
  },
  {
   "cell_type": "code",
   "execution_count": null,
   "id": "b6b7ea65",
   "metadata": {
    "id": "b6b7ea65"
   },
   "outputs": [],
   "source": [
    "\toptimizer = torch.optim.Adam(model.parameters(), lr=1e-4, weight_decay=1e-5"
   ]
  },
  {
   "cell_type": "markdown",
   "id": "19ce5f8d",
   "metadata": {
    "id": "19ce5f8d"
   },
   "source": [
    "# 가중치 초기화\n"
   ]
  },
  {
   "cell_type": "code",
   "execution_count": null,
   "id": "3968e324",
   "metadata": {
    "id": "3968e324"
   },
   "outputs": [],
   "source": [
    "# Xavier 초기화(Sigmoid 최적화)\n",
    "\n",
    "    torch.nn.init.xavier_uniform_(linear1.weight) = 이산확률분포\n",
    "    torch.nn.init.xavier_normal_(linear1.weight) = 연속확률분포, 정규분포\n",
    "\n",
    "# He 초기화 (ReLu에 최적화)\n",
    "\n",
    "    torch.nn.init.kaiming_uniform_(tensor, a=0, mode='fan_in', nonlinearity='leaky_relu')\n",
    "    torch.nn.init.kaiming_normal_(tensor, a=0, mode='fan_in', nonlinearity='leaky_relu')"
   ]
  },
  {
   "cell_type": "markdown",
   "id": "b498e0f2",
   "metadata": {
    "id": "b498e0f2"
   },
   "source": [
    "# BatchNormalization\n"
   ]
  },
  {
   "cell_type": "code",
   "execution_count": null,
   "id": "7b223d47",
   "metadata": {
    "id": "7b223d47"
   },
   "outputs": [],
   "source": [
    "- 참고자료 https://wegonnamakeit.tistory.com/47\n",
    "\n",
    "     bn1 = torch.nn.BatchNorm2d(32)\n",
    "     bn2 = torch.nn.BatchNorm2d(32)\n",
    "      \n",
    "      bn_model = torch.nn.Sequential(linear1, bn1, relu,linear2, bn2, relu, linear3).to(device)\n",
    "      \n",
    " 입력과 출력이 다른 현상.!을 해결하고자\n",
    " \n",
    "-internal Covarience Shift\n",
    " \t- Layer/Activation 마다 입력의 분포가 달라지는 현상\n",
    "\n",
    "-Whitening기법(특징없애기? 줄이기?)\n",
    "- 입력의 분포를 정규분포라 가정\n",
    "\t-표준정규분포 N(1,0)이 되도록 조정\n",
    "    -원래값으로 환원\n",
    "- 많은계산 필요하다,,그리고 분포의 특성을 변형 -->보정"
   ]
  }
 ],
 "metadata": {
  "colab": {
   "provenance": []
  },
  "kernelspec": {
   "display_name": "Python 3 (ipykernel)",
   "language": "python",
   "name": "python3"
  },
  "language_info": {
   "codemirror_mode": {
    "name": "ipython",
    "version": 3
   },
   "file_extension": ".py",
   "mimetype": "text/x-python",
   "name": "python",
   "nbconvert_exporter": "python",
   "pygments_lexer": "ipython3",
   "version": "3.9.12"
  }
 },
 "nbformat": 4,
 "nbformat_minor": 5
}
